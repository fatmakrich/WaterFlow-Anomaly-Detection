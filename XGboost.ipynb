{
 "cells": [
  {
   "cell_type": "code",
   "execution_count": 7,
   "metadata": {},
   "outputs": [
    {
     "name": "stdout",
     "output_type": "stream",
     "text": [
      "\n",
      "--- Modèle pour Cluster 0 ---\n",
      "Accuracy pour le Cluster 0: 0.9950\n",
      "Classification Report:\n",
      "              precision    recall  f1-score   support\n",
      "\n",
      "           0       1.00      1.00      1.00     38241\n",
      "           1       0.83      0.44      0.58       296\n",
      "\n",
      "    accuracy                           1.00     38537\n",
      "   macro avg       0.92      0.72      0.79     38537\n",
      "weighted avg       0.99      1.00      0.99     38537\n",
      "\n",
      "\n",
      "--- Modèle pour Cluster 1 ---\n",
      "Accuracy pour le Cluster 1: 0.9829\n",
      "Classification Report:\n",
      "              precision    recall  f1-score   support\n",
      "\n",
      "           0       0.98      1.00      0.99     27965\n",
      "           1       0.97      0.29      0.45       682\n",
      "\n",
      "    accuracy                           0.98     28647\n",
      "   macro avg       0.98      0.65      0.72     28647\n",
      "weighted avg       0.98      0.98      0.98     28647\n",
      "\n",
      "\n",
      "--- Modèle pour Cluster 2 ---\n",
      "Accuracy pour le Cluster 2: 0.9946\n",
      "Classification Report:\n",
      "              precision    recall  f1-score   support\n",
      "\n",
      "           0       0.99      1.00      1.00     53170\n",
      "           1       0.99      0.47      0.63       542\n",
      "\n",
      "    accuracy                           0.99     53712\n",
      "   macro avg       0.99      0.73      0.82     53712\n",
      "weighted avg       0.99      0.99      0.99     53712\n",
      "\n"
     ]
    }
   ],
   "source": [
    "import pandas as pd\n",
    "import xgboost as xgb\n",
    "from sklearn.metrics import accuracy_score, classification_report\n",
    "from sklearn.model_selection import train_test_split\n",
    "\n",
    "# Charger les données\n",
    "data = pd.read_csv('data/data_clusters_anomaly.csv')\n",
    "\n",
    "# Supprimer les lignes avec des valeurs manquantes dans la colonne 'anomalie' avant de continuer\n",
    "df_without_nan = data.dropna(subset=['anomalie'])\n",
    "\n",
    "# Pour chaque cluster (0, 1, 2), appliquer XGBoost pour une classification multiclasse\n",
    "for cluster in [0, 1, 2]:\n",
    "    print(f\"\\n--- Modèle pour Cluster {cluster} ---\")\n",
    "    \n",
    "    # Filtrer les données du cluster\n",
    "    cluster_data = df_without_nan[df_without_nan['cluster'] == cluster]\n",
    "    \n",
    "    if len(cluster_data) > 0:\n",
    "        X = cluster_data[['Consommation']]  # Features\n",
    "        y = cluster_data['anomalie']  # Label (doit contenir 0, 1, 2)\n",
    "        \n",
    "        # Diviser les données en train et test\n",
    "        X_train, X_test, y_train, y_test = train_test_split(X, y, test_size=0.2, random_state=42)\n",
    "        \n",
    "        # Créer le modèle XGBoost pour classification multiclasse\n",
    "        model = xgb.XGBClassifier(objective='multi:softmax', num_class=3, n_estimators=100, random_state=42)\n",
    "        \n",
    "        # Entraîner le modèle\n",
    "        model.fit(X_train, y_train)\n",
    "        \n",
    "        # Prédire les anomalies\n",
    "        y_pred = model.predict(X_test)\n",
    "        \n",
    "        # Évaluer le modèle\n",
    "        accuracy = accuracy_score(y_test, y_pred)\n",
    "        print(f\"Accuracy pour le Cluster {cluster}: {accuracy:.4f}\")\n",
    "        print(\"Classification Report:\")\n",
    "        print(classification_report(y_test, y_pred))\n",
    "    \n",
    "    else:\n",
    "        print(f\"Pas de données pour le cluster {cluster}.\")\n",
    "\n"
   ]
  },
  {
   "cell_type": "code",
   "execution_count": null,
   "metadata": {},
   "outputs": [],
   "source": []
  }
 ],
 "metadata": {
  "kernelspec": {
   "display_name": "base",
   "language": "python",
   "name": "python3"
  },
  "language_info": {
   "codemirror_mode": {
    "name": "ipython",
    "version": 3
   },
   "file_extension": ".py",
   "mimetype": "text/x-python",
   "name": "python",
   "nbconvert_exporter": "python",
   "pygments_lexer": "ipython3",
   "version": "3.12.7"
  }
 },
 "nbformat": 4,
 "nbformat_minor": 2
}
