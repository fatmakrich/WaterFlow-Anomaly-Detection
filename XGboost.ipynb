{
 "cells": [
  {
   "cell_type": "code",
   "execution_count": null,
   "metadata": {
    "vscode": {
     "languageId": "plaintext"
    }
   },
   "outputs": [],
   "source": [
    "import xgboost as xgb\n",
    "from sklearn.metrics import accuracy_score, classification_report\n",
    "from sklearn.model_selection import train_test_split\n",
    "\n",
    "# Pour chaque cluster, on applique XGBoost\n",
    "for cluster in df_without_nan['cluster'].unique():\n",
    "    print(f\"\\n--- Modèle pour Cluster {cluster} ---\")\n",
    "    \n",
    "    cluster_data = df_without_nan[df_without_nan['cluster'] == cluster]\n",
    "    \n",
    "    if len(cluster_data) > 0:\n",
    "        X = cluster_data[['Consommation']]  # Features\n",
    "        y = cluster_data['anomalie']  # Label\n",
    "        \n",
    "        # Diviser les données en train et test\n",
    "        X_train, X_test, y_train, y_test = train_test_split(X, y, test_size=0.2, random_state=42)\n",
    "\n",
    "        # Créer le modèle XGBoost\n",
    "        model = xgb.XGBClassifier(n_estimators=100, random_state=42)\n",
    "\n",
    "        # Entraîner le modèle\n",
    "        model.fit(X_train, y_train)\n",
    "\n",
    "        # Prédire les anomalies\n",
    "        y_pred = model.predict(X_test)\n",
    "\n",
    "        # Évaluer le modèle\n",
    "        print(\"Accuracy:\", accuracy_score(y_test, y_pred))\n",
    "   \n",
    "    else:\n",
    "        print(f\"Pas de données pour le cluster {cluster}.\")\n"
   ]
  }
 ],
 "metadata": {
  "language_info": {
   "name": "python"
  }
 },
 "nbformat": 4,
 "nbformat_minor": 2
}
