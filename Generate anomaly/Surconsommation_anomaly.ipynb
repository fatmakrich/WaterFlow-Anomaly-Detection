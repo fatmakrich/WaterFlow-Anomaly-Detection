{
 "cells": [
  {
   "cell_type": "code",
   "execution_count": 1,
   "metadata": {},
   "outputs": [
    {
     "name": "stdout",
     "output_type": "stream",
     "text": [
      "                 datetime  Consommation  anomalie             type\n",
      "43159 2016-03-04 21:47:59           389         1  prb de compteur\n",
      "43353 2016-12-04 07:47:56           413         1  prb de compteur\n",
      "43991 2016-03-07 13:46:16           411         1  prb de compteur\n",
      "44430 2016-09-08 20:45:19           374         1  prb de compteur\n",
      "44468 2016-11-08 10:45:26           377         1  prb de compteur\n",
      "44612 2016-05-09 10:44:56           414         1  prb de compteur\n",
      "44664 2016-07-09 14:44:44           370         1  prb de compteur\n",
      "44828 2016-02-10 10:44:21           398         1  prb de compteur\n",
      "44831 2016-02-10 13:44:21           393         1  prb de compteur\n"
     ]
    }
   ],
   "source": [
    "import numpy as np\n",
    "import pandas as pd\n",
    "\n",
    "# Charger le fichier CSV\n",
    "df = pd.read_csv('Final2.csv')  # Remplace par le chemin réel de ton fichier\n",
    "\n",
    "# Sélectionner l'utilisateur spécifique\n",
    "user_id = 39\n",
    "# Filtrer les données de l'utilisateur spécifique\n",
    "user_10 = df[df['user_number'] == user_id].copy()\n",
    "\n",
    "# Conversion de la colonne datetime en format datetime\n",
    "user_10['datetime'] = pd.to_datetime(user_10['datetime'], errors='coerce')\n",
    "\n",
    "# Créer une copie pour les anomalies\n",
    "df_anormal = user_10.copy()\n",
    "\n",
    "# Fixer la graine pour la reproductibilité\n",
    "np.random.seed(42)\n",
    "\n",
    "# Nettoyage de la colonne datetime\n",
    "df_anormal['datetime'] = pd.to_datetime(df_anormal['datetime'], errors='coerce', dayfirst=True)\n",
    "\n",
    "# Supprimer les lignes avec des dates invalides si nécessaire\n",
    "df_anormal = df_anormal.dropna(subset=['datetime'])\n",
    "\n",
    "# Durée de l'anomalie en jours (par exemple, 2 jours)\n",
    "anomaly_duration = pd.Timedelta(days=2)\n",
    "\n",
    "# Nombre d'anomalies à ajouter\n",
    "num_anomalies = 9  # Exemple : 2 anomalies\n",
    "\n",
    "# Trouver les indices où la consommation est élevée\n",
    "anomaly_indices = df_anormal[df_anormal['Consommation'] >= 10].index\n",
    "\n",
    "# Si le nombre d'anomalies souhaité est supérieur au nombre d'anomalies disponibles, on réduit à la taille disponible\n",
    "num_anomalies = min(num_anomalies, len(anomaly_indices))\n",
    "\n",
    "# Sélectionner aléatoirement les indices où l'on va ajouter des anomalies\n",
    "selected_anomaly_indices = np.random.choice(anomaly_indices, size=num_anomalies, replace=False)\n",
    "\n",
    "# Ajouter les anomalies instantanées\n",
    "for idx in selected_anomaly_indices:\n",
    "    # Appliquer un pic négatif instantané\n",
    "    df_anormal.loc[idx, 'Consommation'] = abs(df_anormal.loc[idx, 'Consommation'])+360\n",
    "    # Marquer cette ligne comme anomalie et définir le type d'anomalie\n",
    "    df_anormal.loc[idx, ['anomalie', 'type']] = [1, 'prb de compteur']\n",
    "\n",
    "# Afficher les anomalies ajoutées\n",
    "print(df_anormal[df_anormal['anomalie'] == 1][['datetime', 'Consommation', 'anomalie', 'type']])\n"
   ]
  },
  {
   "cell_type": "code",
   "execution_count": null,
   "metadata": {},
   "outputs": [],
   "source": []
  }
 ],
 "metadata": {
  "kernelspec": {
   "display_name": "base",
   "language": "python",
   "name": "python3"
  },
  "language_info": {
   "codemirror_mode": {
    "name": "ipython",
    "version": 3
   },
   "file_extension": ".py",
   "mimetype": "text/x-python",
   "name": "python",
   "nbconvert_exporter": "python",
   "pygments_lexer": "ipython3",
   "version": "3.12.7"
  }
 },
 "nbformat": 4,
 "nbformat_minor": 2
}
