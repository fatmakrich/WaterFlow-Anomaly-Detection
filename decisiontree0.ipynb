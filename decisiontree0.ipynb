{
 "cells": [
  {
   "cell_type": "code",
   "execution_count": 5,
   "metadata": {},
   "outputs": [],
   "source": [
    "import pandas as pd\n",
    "import numpy as np\n",
    "from sklearn.model_selection import train_test_split\n",
    "from sklearn.tree import DecisionTreeClassifier\n",
    "from sklearn.metrics import classification_report, accuracy_score\n"
   ]
  },
  {
   "cell_type": "code",
   "execution_count": 6,
   "metadata": {},
   "outputs": [
    {
     "name": "stdout",
     "output_type": "stream",
     "text": [
      "  user_number             datetime  Consommation  cluster anomalie  \\\n",
      "0        0_39  2016-03-01 01:02:47             7      0.0      0.0   \n",
      "1        0_39  2016-03-01 02:02:47             8      0.0      0.0   \n",
      "2        0_39  2016-03-01 03:02:45             3      0.0      0.0   \n",
      "3        0_39  2016-03-01 04:02:45             0      0.0      0.0   \n",
      "4        0_39  2016-03-01 05:02:45             0      0.0      0.0   \n",
      "\n",
      "             type  \n",
      "0  pas d'anomalie  \n",
      "1  pas d'anomalie  \n",
      "2  pas d'anomalie  \n",
      "3  pas d'anomalie  \n",
      "4  pas d'anomalie  \n",
      "             type  anomalie\n",
      "0  pas d'anomalie         0\n",
      "1  pas d'anomalie         0\n",
      "2  pas d'anomalie         0\n",
      "3  pas d'anomalie         0\n",
      "4  pas d'anomalie         0\n"
     ]
    },
    {
     "name": "stderr",
     "output_type": "stream",
     "text": [
      "C:\\Users\\asus\\AppData\\Local\\Temp\\ipykernel_11400\\2849442830.py:1: DtypeWarning: Columns (4) have mixed types. Specify dtype option on import or set low_memory=False.\n",
      "  data = pd.read_csv('data/balanced_data.csv')\n"
     ]
    }
   ],
   "source": [
    "data = pd.read_csv('data/balanced_data.csv')\n",
    "\n",
    "# Vérifier les premières lignes pour comprendre la structure\n",
    "print(data.head())\n",
    "\n",
    "# Mise à jour de la colonne 'anomalie' en fonction de la colonne 'type'\n",
    "data['anomalie'] = data['type'].apply(lambda x: 0 if str(x).strip().lower() == 'pas d\\'anomalie' else 1)\n",
    "\n",
    "# Vérification des résultats\n",
    "print(data[['type', 'anomalie']].head())"
   ]
  },
  {
   "cell_type": "code",
   "execution_count": 7,
   "metadata": {},
   "outputs": [
    {
     "name": "stdout",
     "output_type": "stream",
     "text": [
      "Nombre de lignes pour le cluster 0 : 79274\n"
     ]
    },
    {
     "name": "stderr",
     "output_type": "stream",
     "text": [
      "C:\\Users\\asus\\AppData\\Local\\Temp\\ipykernel_11400\\2337359508.py:6: SettingWithCopyWarning: \n",
      "A value is trying to be set on a copy of a slice from a DataFrame.\n",
      "Try using .loc[row_indexer,col_indexer] = value instead\n",
      "\n",
      "See the caveats in the documentation: https://pandas.pydata.org/pandas-docs/stable/user_guide/indexing.html#returning-a-view-versus-a-copy\n",
      "  data_cluster_0['anomalie'] = data_cluster_0['anomalie'].astype(int)\n"
     ]
    }
   ],
   "source": [
    "# Filtrer pour le cluster 0 uniquement\n",
    "data_cluster_0 = data[data['cluster'] == 0]\n",
    "print(f\"Nombre de lignes pour le cluster 0 : {len(data_cluster_0)}\")\n",
    "\n",
    "# Nettoyer la colonne 'anomalie' (convertir en entier)\n",
    "data_cluster_0['anomalie'] = data_cluster_0['anomalie'].astype(int)\n",
    "\n",
    "# Créer les fenêtres glissantes\n",
    "def create_sliding_windows(data, window_size, step_size):\n",
    "    \"\"\"\n",
    "    Génère des fenêtres glissantes à partir des données avec chevauchement.\n",
    "    \"\"\"\n",
    "    X, y = [], []\n",
    "    for start in range(0, len(data) - window_size + 1, step_size):\n",
    "        end = start + window_size\n",
    "        window = data.iloc[start:end]\n",
    "        # Les caractéristiques sont la consommation\n",
    "        X.append(window['Consommation'].values)\n",
    "        # L'étiquette est 1 si une anomalie est présente dans la fenêtre\n",
    "        y.append(window['anomalie'].max())\n",
    "    return np.array(X), np.array(y)\n",
    "\n",
    "# Paramètres des fenêtres glissantes\n",
    "window_size =2  # Taille de la fenêtre (nombre de lignes par fenêtre)\n",
    "step_size = window_size // 2  # Pas (chevauchement de 50 %)"
   ]
  },
  {
   "cell_type": "code",
   "execution_count": 4,
   "metadata": {},
   "outputs": [
    {
     "name": "stdout",
     "output_type": "stream",
     "text": [
      "Nombre d'échantillons générés : 192682\n",
      "Rapport de classification :\n",
      "              precision    recall  f1-score   support\n",
      "\n",
      "           0       1.00      1.00      1.00     57299\n",
      "           1       0.97      0.66      0.79       506\n",
      "\n",
      "    accuracy                           1.00     57805\n",
      "   macro avg       0.99      0.83      0.89     57805\n",
      "weighted avg       1.00      1.00      1.00     57805\n",
      "\n",
      "Exactitude : 0.996851483435689\n",
      "Précision pour la classe '1' (anomalie) : 0.9736842105263158\n"
     ]
    }
   ],
   "source": [
    "# Générer les données pour le modèle\n",
    "X, y = create_sliding_windows(data_cluster_0, window_size, step_size)\n",
    "print(f\"Nombre d'échantillons générés : {len(X)}\")\n",
    "\n",
    "# Diviser les données en ensemble d'entraînement et de test\n",
    "X_train, X_test, y_train, y_test = train_test_split(X, y, test_size=0.3, random_state=42)\n",
    "\n",
    "# Entraîner le modèle\n",
    "clf = DecisionTreeClassifier(random_state=42)\n",
    "clf.fit(X_train, y_train)\n",
    "\n",
    "# Prédictions\n",
    "y_pred = clf.predict(X_test)\n",
    "\n",
    "# Évaluation du modèle\n",
    "print(\"Rapport de classification :\")\n",
    "print(classification_report(y_test, y_pred))\n",
    "print(f\"Exactitude : {accuracy_score(y_test, y_pred)}\")\n",
    "\n",
    "# Précision pour la classe 1 (anomalie)\n",
    "precision_class_1 = (y_pred == 1) & (y_test == 1)\n",
    "print(f\"Précision pour la classe '1' (anomalie) : {precision_class_1.sum() / (y_pred == 1).sum() if (y_pred == 1).sum() > 0 else 0}\")"
   ]
  },
  {
   "cell_type": "code",
   "execution_count": 8,
   "metadata": {},
   "outputs": [
    {
     "data": {
      "image/png": "[encoded data removed]",
      "text/plain": [
       "<Figure size 800x600 with 2 Axes>"
      ]
     },
     "metadata": {},
     "output_type": "display_data"
    }
   ],
   "source": [
    "from sklearn.metrics import confusion_matrix\n",
    "import matplotlib.pyplot as plt\n",
    "import numpy as np\n",
    "\n",
    "# Calculer la matrice de confusion\n",
    "cm = confusion_matrix(y_test, y_pred)\n",
    "\n",
    "# Normaliser la matrice pour obtenir des pourcentages\n",
    "cm_percentage = cm.astype('float') / cm.sum(axis=1)[:, np.newaxis] * 100\n",
    "\n",
    "# Afficher la matrice avec matplotlib\n",
    "fig, ax = plt.subplots(figsize=(8, 6))\n",
    "im = ax.imshow(cm_percentage, interpolation='nearest', cmap='Blues')\n",
    "\n",
    "# Ajouter une barre de couleur\n",
    "cbar = ax.figure.colorbar(im, ax=ax)\n",
    "\n",
    "# Ajouter les labels\n",
    "classes = ['Classe normale (0)', 'Classe anomalie (1)']  # Étiquettes des classes\n",
    "ax.set(xticks=np.arange(cm.shape[1]),\n",
    "       yticks=np.arange(cm.shape[0]),\n",
    "       xticklabels=classes,\n",
    "       yticklabels=classes,\n",
    "       ylabel='Valeurs réelles',\n",
    "       xlabel='Prédictions')\n",
    "\n",
    "# Ajouter les pourcentages dans les cases\n",
    "fmt = '.2f'  # Format des nombres\n",
    "thresh = cm_percentage.max() / 2.\n",
    "for i in range(cm.shape[0]):\n",
    "    for j in range(cm.shape[1]):\n",
    "        ax.text(j, i, format(cm_percentage[i, j], fmt) + '%',\n",
    "                ha=\"center\", va=\"center\",\n",
    "                color=\"white\" if cm_percentage[i, j] > thresh else \"black\")\n",
    "\n",
    "plt.title(\"Matrice de confusion (en pourcentage)\")\n",
    "plt.tight_layout()\n",
    "plt.show()\n"
   ]
  },
  {
   "cell_type": "code",
   "execution_count": null,
   "metadata": {},
   "outputs": [],
   "source": []
  }
 ],
 "metadata": {
  "kernelspec": {
   "display_name": "Python 3",
   "language": "python",
   "name": "python3"
  },
  "language_info": {
   "codemirror_mode": {
    "name": "ipython",
    "version": 3
   },
   "file_extension": ".py",
   "mimetype": "text/x-python",
   "name": "python",
   "nbconvert_exporter": "python",
   "pygments_lexer": "ipython3",
   "version": "3.12.2"
  }
 },
 "nbformat": 4,
 "nbformat_minor": 2
}
