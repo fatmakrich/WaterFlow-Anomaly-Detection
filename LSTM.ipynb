{
 "cells": [
  {
   "cell_type": "code",
   "execution_count": 1,
   "metadata": {},
   "outputs": [],
   "source": [
    "import pandas as pd\n",
    "import numpy as np\n",
    "import matplotlib.pyplot as plt\n",
    "from sklearn.preprocessing import MinMaxScaler\n",
    "from sklearn.model_selection import train_test_split\n",
    "from tensorflow.keras.models import Model\n",
    "from tensorflow.keras.layers import Input, Dense\n",
    "from tensorflow.keras.optimizers import Adam\n",
    "from sklearn.metrics import classification_report, roc_auc_score"
   ]
  },
  {
   "cell_type": "code",
   "execution_count": 2,
   "metadata": {},
   "outputs": [
    {
     "data": {
      "text/html": [
       "<div>\n",
       "<style scoped>\n",
       "    .dataframe tbody tr th:only-of-type {\n",
       "        vertical-align: middle;\n",
       "    }\n",
       "\n",
       "    .dataframe tbody tr th {\n",
       "        vertical-align: top;\n",
       "    }\n",
       "\n",
       "    .dataframe thead th {\n",
       "        text-align: right;\n",
       "    }\n",
       "</style>\n",
       "<table border=\"1\" class=\"dataframe\">\n",
       "  <thead>\n",
       "    <tr style=\"text-align: right;\">\n",
       "      <th></th>\n",
       "      <th>user_number</th>\n",
       "      <th>datetime</th>\n",
       "      <th>Consommation</th>\n",
       "      <th>cluster</th>\n",
       "    </tr>\n",
       "  </thead>\n",
       "  <tbody>\n",
       "    <tr>\n",
       "      <th>0</th>\n",
       "      <td>1</td>\n",
       "      <td>2016-03-01 01:19:43</td>\n",
       "      <td>0</td>\n",
       "      <td>0</td>\n",
       "    </tr>\n",
       "    <tr>\n",
       "      <th>1</th>\n",
       "      <td>1</td>\n",
       "      <td>2016-03-01 02:19:43</td>\n",
       "      <td>0</td>\n",
       "      <td>0</td>\n",
       "    </tr>\n",
       "    <tr>\n",
       "      <th>2</th>\n",
       "      <td>1</td>\n",
       "      <td>2016-03-01 03:19:43</td>\n",
       "      <td>0</td>\n",
       "      <td>0</td>\n",
       "    </tr>\n",
       "    <tr>\n",
       "      <th>3</th>\n",
       "      <td>1</td>\n",
       "      <td>2016-03-01 04:19:43</td>\n",
       "      <td>0</td>\n",
       "      <td>0</td>\n",
       "    </tr>\n",
       "    <tr>\n",
       "      <th>4</th>\n",
       "      <td>1</td>\n",
       "      <td>2016-03-01 05:39:54</td>\n",
       "      <td>0</td>\n",
       "      <td>0</td>\n",
       "    </tr>\n",
       "    <tr>\n",
       "      <th>...</th>\n",
       "      <td>...</td>\n",
       "      <td>...</td>\n",
       "      <td>...</td>\n",
       "      <td>...</td>\n",
       "    </tr>\n",
       "    <tr>\n",
       "      <th>673922</th>\n",
       "      <td>92</td>\n",
       "      <td>2017-02-28 18:08:01</td>\n",
       "      <td>0</td>\n",
       "      <td>2</td>\n",
       "    </tr>\n",
       "    <tr>\n",
       "      <th>673923</th>\n",
       "      <td>92</td>\n",
       "      <td>2017-02-28 19:08:06</td>\n",
       "      <td>0</td>\n",
       "      <td>2</td>\n",
       "    </tr>\n",
       "    <tr>\n",
       "      <th>673924</th>\n",
       "      <td>92</td>\n",
       "      <td>2017-02-28 20:08:06</td>\n",
       "      <td>27</td>\n",
       "      <td>2</td>\n",
       "    </tr>\n",
       "    <tr>\n",
       "      <th>673925</th>\n",
       "      <td>92</td>\n",
       "      <td>2017-02-28 21:08:06</td>\n",
       "      <td>43</td>\n",
       "      <td>2</td>\n",
       "    </tr>\n",
       "    <tr>\n",
       "      <th>673926</th>\n",
       "      <td>92</td>\n",
       "      <td>2017-02-28 22:08:06</td>\n",
       "      <td>5</td>\n",
       "      <td>2</td>\n",
       "    </tr>\n",
       "  </tbody>\n",
       "</table>\n",
       "<p>673927 rows × 4 columns</p>\n",
       "</div>"
      ],
      "text/plain": [
       "        user_number             datetime  Consommation  cluster\n",
       "0                 1  2016-03-01 01:19:43             0        0\n",
       "1                 1  2016-03-01 02:19:43             0        0\n",
       "2                 1  2016-03-01 03:19:43             0        0\n",
       "3                 1  2016-03-01 04:19:43             0        0\n",
       "4                 1  2016-03-01 05:39:54             0        0\n",
       "...             ...                  ...           ...      ...\n",
       "673922           92  2017-02-28 18:08:01             0        2\n",
       "673923           92  2017-02-28 19:08:06             0        2\n",
       "673924           92  2017-02-28 20:08:06            27        2\n",
       "673925           92  2017-02-28 21:08:06            43        2\n",
       "673926           92  2017-02-28 22:08:06             5        2\n",
       "\n",
       "[673927 rows x 4 columns]"
      ]
     },
     "execution_count": 2,
     "metadata": {},
     "output_type": "execute_result"
    }
   ],
   "source": [
    "# Charger les données\n",
    "df = pd.read_csv(\"df_with_clusters.csv\")\n",
    "df"
   ]
  },
  {
   "cell_type": "markdown",
   "metadata": {},
   "source": [
    "Préparer les données (fonction de glissement et normalisation)"
   ]
  },
  {
   "cell_type": "code",
   "execution_count": 5,
   "metadata": {},
   "outputs": [],
   "source": [
    "def create_sliding_window_data(user_data, window_size=5):\n",
    "    X, y = [], []\n",
    "    for start in range(0, len(user_data) - window_size):\n",
    "        end = start + window_size\n",
    "        X.append(user_data[start:end])\n",
    "        y.append(user_data[end])  # Prédire la consommation à l'instant suivant\n",
    "    return np.array(X), np.array(y)"
   ]
  },
  {
   "cell_type": "markdown",
   "metadata": {},
   "source": [
    "Fonction pour créer et entraîner le modèle LSTM"
   ]
  },
  {
   "cell_type": "code",
   "execution_count": 6,
   "metadata": {},
   "outputs": [],
   "source": [
    "def create_lstm_model(input_shape):\n",
    "    model = Sequential()\n",
    "    model.add(LSTM(64, activation='relu', input_shape=input_shape))\n",
    "    model.add(Dense(1))  # Prédiction de la consommation suivante\n",
    "    model.compile(optimizer='adam', loss='mean_squared_error')\n",
    "    return model"
   ]
  },
  {
   "cell_type": "markdown",
   "metadata": {},
   "source": [
    "Fonction pour entraîner un modèle LSTM pour chaque cluster"
   ]
  },
  {
   "cell_type": "code",
   "execution_count": 5,
   "metadata": {},
   "outputs": [],
   "source": [
    "def train_lstm_for_cluster(cluster_data, cluster_id, epochs=50, batch_size=32):\n",
    "    scaler = MinMaxScaler()\n",
    "    cluster_data_scaled = scaler.fit_transform(cluster_data)\n",
    "    \n",
    "    # Diviser les données en ensemble d'entraînement et de validation\n",
    "    X_train, X_val = train_test_split(cluster_data_scaled, test_size=0.3, random_state=42)\n",
    "\n",
    "    # Reshape les données pour LSTM (samples, time steps, features)\n",
    "    X_train = X_train.reshape((X_train.shape[0], 1, X_train.shape[1]))\n",
    "    X_val = X_val.reshape((X_val.shape[0], 1, X_val.shape[1]))\n",
    "\n",
    "    # Créer et entraîner le modèle LSTM\n",
    "    model = create_lstm_model(input_shape=(X_train.shape[1], X_train.shape[2]))\n",
    "    history = model.fit(X_train, X_train, epochs=epochs, batch_size=batch_size, validation_data=(X_val, X_val))\n",
    "\n",
    "    # Sauvegarder le modèle LSTM\n",
    "    model.save(f\"LSTM_{cluster_id}.h5\")\n",
    "    \n",
    "    return history"
   ]
  },
  {
   "cell_type": "markdown",
   "metadata": {},
   "source": [
    "Fonction pour calculer l'erreur de reconstruction avec le modèle LSTM"
   ]
  },
  {
   "cell_type": "code",
   "execution_count": 6,
   "metadata": {},
   "outputs": [],
   "source": [
    "def calculate_reconstruction_error_lstm(model, data, scaler):\n",
    "    data_scaled = scaler.transform(data)\n",
    "    data_scaled = data_scaled.reshape((data_scaled.shape[0], 1, data_scaled.shape[1]))\n",
    "    \n",
    "    reconstructed = model.predict(data_scaled, verbose=0)\n",
    "    mse = np.mean(np.power(data - reconstructed, 2), axis=1)\n",
    "    return mse"
   ]
  },
  {
   "cell_type": "markdown",
   "metadata": {},
   "source": [
    "Entraîner un modèle LSTM pour chaque cluster"
   ]
  },
  {
   "cell_type": "code",
   "execution_count": null,
   "metadata": {},
   "outputs": [],
   "source": [
    "clusters = final_data['cluster'].unique()\n",
    "for cluster_id in clusters:\n",
    "    cluster_data = final_data[final_data['cluster'] == cluster_id].drop(columns=['user_number', 'anomalie', 'cluster'])\n",
    "    \n",
    "    # Normaliser et entraîner le modèle\n",
    "    print(f\"Entraînement du modèle LSTM pour le cluster {cluster_id}\")\n",
    "    train_lstm_for_cluster(cluster_data, cluster_id)\n"
   ]
  }
 ],
 "metadata": {
  "kernelspec": {
   "display_name": "base",
   "language": "python",
   "name": "python3"
  },
  "language_info": {
   "codemirror_mode": {
    "name": "ipython",
    "version": 3
   },
   "file_extension": ".py",
   "mimetype": "text/x-python",
   "name": "python",
   "nbconvert_exporter": "python",
   "pygments_lexer": "ipython3",
   "version": "3.12.7"
  }
 },
 "nbformat": 4,
 "nbformat_minor": 2
}
