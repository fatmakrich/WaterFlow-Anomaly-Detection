{
 "cells": [
  {
   "cell_type": "code",
   "execution_count": null,
   "metadata": {
    "vscode": {
     "languageId": "plaintext"
    }
   },
   "outputs": [],
   "source": [
    "from sklearn.ensemble import RandomForestClassifier\n",
    "from sklearn.model_selection import train_test_split\n",
    "from sklearn.metrics import accuracy_score, classification_report\n",
    "\n",
    "# Filtrer les données pour ne conserver que les clusters valides (non NaN)\n",
    "df_without_nan = df_with_clusters[df_with_clusters['cluster'].notna()]\n",
    "\n",
    "# Itérer sur chaque cluster pour entraîner et évaluer le modèle pour chaque cluster séparément\n",
    "for cluster in df_without_nan['cluster'].unique():\n",
    "    print(f\"\\n--- Modèle pour Cluster {cluster} ---\")\n",
    "    \n",
    "    # Filtrer les données pour le cluster actuel\n",
    "    cluster_data = df_without_nan[df_without_nan['cluster'] == cluster]\n",
    "    \n",
    "    # Préparer les features (X) et les labels (y) pour le cluster\n",
    "    X = cluster_data[['Consommation']]  # Features pour ce cluster\n",
    "    y = cluster_data['anomalie']  # Label (anomalie)\n",
    "    \n",
    "    # Diviser les données en train et test\n",
    "    X_train, X_test, y_train, y_test = train_test_split(X, y, test_size=0.2, random_state=42)\n",
    "\n",
    "    # Créer le modèle Random Forest\n",
    "    model = RandomForestClassifier(n_estimators=100, random_state=42)\n",
    "\n",
    "    # Entraîner le modèle\n",
    "    model.fit(X_train, y_train)\n",
    "\n",
    "    # Prédire les anomalies sur l'ensemble de test\n",
    "    y_pred = model.predict(X_test)\n",
    "\n",
    "    # Évaluer les performances du modèle\n",
    "    print(\"Accuracy:\", accuracy_score(y_test, y_pred))\n",
    "    print(\"Classification Report:\\n\", classification_report(y_test, y_pred))\n"
   ]
  },
  {
   "cell_type": "code",
   "execution_count": null,
   "metadata": {
    "vscode": {
     "languageId": "plaintext"
    }
   },
   "outputs": [],
   "source": [
    "# Vérifier la distribution des clusters dans le DataFrame\n",
    "print(df_with_clusters['cluster'].value_counts())\n"
   ]
  },
  {
   "cell_type": "code",
   "execution_count": null,
   "metadata": {
    "vscode": {
     "languageId": "plaintext"
    }
   },
   "outputs": [],
   "source": [
    "# Vérifier les valeurs uniques du cluster\n",
    "print(df_with_clusters['cluster'].unique())\n",
    "\n",
    "# Filtrer les données pour ne garder que les clusters valides\n",
    "df_without_nan = df_with_clusters[df_with_clusters['cluster'].notna()]\n",
    "\n",
    "# Vérifier la distribution des clusters après avoir exclu les NaN\n",
    "print(df_without_nan['cluster'].value_counts())\n",
    "\n",
    "# Itérer sur chaque cluster pour entraîner et évaluer le modèle pour chaque cluster séparément\n",
    "for cluster in df_without_nan['cluster'].unique():\n",
    "    print(f\"\\n--- Modèle pour Cluster {cluster} ---\")\n",
    "    \n",
    "    # Filtrer les données pour le cluster actuel\n",
    "    cluster_data = df_without_nan[df_without_nan['cluster'] == cluster]\n",
    "    \n",
    "    # Vérifier qu'il y a des données pour ce cluster\n",
    "    if len(cluster_data) > 0:\n",
    "        # Préparer les features (X) et les labels (y) pour le cluster\n",
    "        X = cluster_data[['Consommation']]  # Features pour ce cluster\n",
    "        y = cluster_data['anomalie']  # Label (anomalie)\n",
    "        \n",
    "        # Diviser les données en train et test\n",
    "        X_train, X_test, y_train, y_test = train_test_split(X, y, test_size=0.2, random_state=42)\n",
    "\n",
    "        # Créer le modèle Random Forest\n",
    "        model = RandomForestClassifier(n_estimators=100, random_state=42)\n",
    "\n",
    "        # Entraîner le modèle\n",
    "        model.fit(X_train, y_train)\n",
    "\n",
    "        # Prédire les anomalies sur l'ensemble de test\n",
    "        y_pred = model.predict(X_test)\n",
    "\n",
    "        # Évaluer les performances du modèle\n",
    "        print(\"Accuracy:\", accuracy_score(y_test, y_pred))\n",
    "        print(\"Classification Report:\\n\", classification_report(y_test, y_pred))\n",
    "    else:\n",
    "        print(f\"Pas de données pour le cluster {cluster}.\")\n",
    "\n",
    "\n",
    "\n",
    "        \n",
    "\n",
    "# Filtrer les données pour ne garder que les clusters valides (en excluant les NaN)\n",
    "df_without_nan = df_with_clusters[df_with_clusters['cluster'].notna()]\n",
    "\n",
    "\n",
    "# Itérer sur chaque cluster pour entraîner et évaluer le modèle pour chaque cluster séparément\n",
    "for cluster in df_without_nan['cluster'].unique():\n",
    "    print(f\"\\n--- Modèle pour Cluster {cluster} ---\")\n",
    "    \n",
    "    # Filtrer les données pour le cluster actuel\n",
    "    cluster_data = df_without_nan[df_without_nan['cluster'] == cluster]\n",
    "    \n",
    "    # Vérifier qu'il y a des données pour ce cluster\n",
    "    if len(cluster_data) > 0:\n",
    "        # Préparer les features (X) et les labels (y) pour le cluster\n",
    "        X = cluster_data[['Consommation']]  # Features pour ce cluster\n",
    "        y = cluster_data['anomalie']  # Label (anomalie)\n",
    "        \n",
    "        # Diviser les données en train et test\n",
    "        X_train, X_test, y_train, y_test = train_test_split(X, y, test_size=0.2, random_state=42)\n",
    "\n",
    "        # Créer le modèle Random Forest\n",
    "        model = RandomForestClassifier(n_estimators=100, random_state=42)\n",
    "\n",
    "        # Entraîner le modèle\n",
    "        model.fit(X_train, y_train)\n",
    "\n",
    "        # Prédire les anomalies sur l'ensemble de test\n",
    "        y_pred = model.predict(X_test)\n",
    "\n",
    "        # Évaluer les performances du modèle\n",
    "        print(\"Accuracy:\", accuracy_score(y_test, y_pred))\n",
    "    \n",
    "    else:\n",
    "        print(f\"Pas de données pour le cluster {cluster}.\")\n",
    "\n",
    "\n",
    "\n"
   ]
  }
 ],
 "metadata": {
  "language_info": {
   "name": "python"
  }
 },
 "nbformat": 4,
 "nbformat_minor": 2
}
