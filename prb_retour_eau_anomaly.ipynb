{
 "cells": [
  {
   "cell_type": "code",
   "execution_count": null,
   "metadata": {},
   "outputs": [
    {
     "name": "stderr",
     "output_type": "stream",
     "text": [
      "C:\\Users\\MSI\\AppData\\Local\\Temp\\ipykernel_25280\\1606947360.py:8: DtypeWarning: Columns (4) have mixed types. Specify dtype option on import or set low_memory=False.\n",
      "  df = pd.read_csv('anomalie_type1_updated.csv')\n"
     ]
    },
    {
     "name": "stdout",
     "output_type": "stream",
     "text": [
      "Les nouvelles anomalies ont été ajoutées et exportées vers 'Final1.csv'.\n"
     ]
    }
   ],
   "source": [
    "import numpy as np\n",
    "import pandas as pd\n",
    "\n",
    "# Fixer la graine pour la reproductibilité\n",
    "np.random.seed(42)\n",
    "\n",
    "# Charger le fichier existant\n",
    "df = pd.read_csv('anomalie_type1_updated.csv')\n",
    "\n",
    "# Vérifier et convertir la colonne datetime au format datetime\n",
    "df['datetime'] = pd.to_datetime(df['datetime'], errors='coerce', dayfirst=True)\n",
    "df = df.dropna(subset=['datetime'])  # Supprimer les lignes avec des dates invalides si nécessaire\n",
    "\n",
    "# Filtrer les utilisateurs uniques existants\n",
    "existing_users = df['user_number'].unique()\n",
    "\n",
    "# Générer des anomalies pour 10 utilisateurs existants aléatoires\n",
    "for _ in range(10):\n",
    "    # Générer un user_number unique aléatoire qui n'existe pas dans les utilisateurs existants\n",
    "    user_number = np.random.randint(1000, 10000)\n",
    "    \n",
    "    # Vérifier si l'user_number existe déjà et en générer un nouveau si nécessaire\n",
    "    while user_number in existing_users:\n",
    "        user_number = np.random.randint(1000, 10000)\n",
    "    \n",
    "    # Sélectionner les données pour l'utilisateur\n",
    "    user_data = df[df['user_number'] == np.random.choice(existing_users)].copy()\n",
    "    \n",
    "    # Modifier le user_number pour cet utilisateur\n",
    "    user_data['user_number'] = user_number\n",
    "    \n",
    "    # Nombre d'anomalies à ajouter\n",
    "    num_anomalies = 1  # Exemple : 2 anomalies\n",
    "    \n",
    "    # Trouver les indices où la consommation est égale à 50 ou 70\n",
    "    anomaly_indices = user_data[user_data['Consommation'].isin([50, 70])].index\n",
    "    num_anomalies = min(num_anomalies, len(anomaly_indices))\n",
    "    \n",
    "    if num_anomalies > 0:\n",
    "        # Sélectionner aléatoirement les indices où l'on va ajouter des anomalies\n",
    "        selected_anomaly_indices = np.random.choice(anomaly_indices, size=num_anomalies, replace=False)\n",
    "        anomaly_duration = pd.Timedelta(days=2)\n",
    "\n",
    "        # Ajouter les anomalies\n",
    "        for idx in selected_anomaly_indices:\n",
    "            anomaly_start = user_data.loc[idx, 'datetime']\n",
    "            anomaly_end = anomaly_start + anomaly_duration\n",
    "            \n",
    "            # Sélectionner les lignes dans cette plage\n",
    "            anomaly_range = (user_data['datetime'] >= anomaly_start) & (user_data['datetime'] < anomaly_end)\n",
    "            \n",
    "            # Inverser les valeurs de consommation pour cette plage\n",
    "            user_data.loc[anomaly_range, 'Consommation'] = -user_data.loc[anomaly_range, 'Consommation']\n",
    "            \n",
    "            # Marquer ces lignes comme anomalies et définir le type d'anomalie\n",
    "            user_data.loc[anomaly_range, ['anomalie', 'type']] = [1, 'prb de retour d/eau']\n",
    "    \n",
    "    # Ajouter les données modifiées pour cet utilisateur au DataFrame principal\n",
    "    df = pd.concat([df, user_data], ignore_index=True)\n",
    "\n",
    "# Exporter le DataFrame mis à jour vers un fichier CSV\n",
    "df.to_csv('Final1.csv', index=False)\n",
    "\n",
    "# Confirmation de l'exportation\n",
    "print(\"Les nouvelles anomalies ont été ajoutées et exportées vers 'Final1.csv'.\")\n"
   ]
  },
  {
   "cell_type": "code",
   "execution_count": 6,
   "metadata": {},
   "outputs": [
    {
     "name": "stdout",
     "output_type": "stream",
     "text": [
      "Nombre d'utilisateurs uniques dans la base de données : 102\n"
     ]
    },
    {
     "name": "stderr",
     "output_type": "stream",
     "text": [
      "C:\\Users\\MSI\\AppData\\Local\\Temp\\ipykernel_26200\\2773077664.py:4: DtypeWarning: Columns (4) have mixed types. Specify dtype option on import or set low_memory=False.\n",
      "  df_updated = pd.read_csv('anomalie_type1.csv')\n"
     ]
    }
   ],
   "source": [
    "import pandas as pd\n",
    "\n",
    "# Charger la base de données\n",
    "df_updated = pd.read_csv('anomalie_type1.csv')\n",
    "\n",
    "# Compter le nombre d'utilisateurs uniques dans la colonne 'user_number'\n",
    "unique_users_count = df_updated['user_number'].nunique()\n",
    "\n",
    "# Afficher le nombre d'utilisateurs uniques\n",
    "print(f\"Nombre d'utilisateurs uniques dans la base de données : {unique_users_count}\")\n"
   ]
  },
  {
   "cell_type": "code",
   "execution_count": null,
   "metadata": {},
   "outputs": [],
   "source": []
  }
 ],
 "metadata": {
  "kernelspec": {
   "display_name": "base",
   "language": "python",
   "name": "python3"
  },
  "language_info": {
   "codemirror_mode": {
    "name": "ipython",
    "version": 3
   },
   "file_extension": ".py",
   "mimetype": "text/x-python",
   "name": "python",
   "nbconvert_exporter": "python",
   "pygments_lexer": "ipython3",
   "version": "3.12.4"
  }
 },
 "nbformat": 4,
 "nbformat_minor": 2
}
