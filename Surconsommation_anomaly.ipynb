{
 "cells": [
  {
   "cell_type": "code",
   "execution_count": null,
   "metadata": {
    "vscode": {
     "languageId": "plaintext"
    }
   },
   "outputs": [],
   "source": [
    "import numpy as np\n",
    "import pandas as pd\n",
    "\n",
    "# Charger le fichier CSV\n",
    "df = pd.read_csv('Final_Data.csv')  # Remplace par le chemin réel de ton fichier\n",
    "\n",
    "# Sélectionner l'utilisateur spécifique\n",
    "user_id = 39\n",
    "# Filtrer les données de l'utilisateur spécifique\n",
    "user_10 = df[df['user_number'] == user_id].copy()\n",
    "\n",
    "# Conversion de la colonne datetime en format datetime\n",
    "user_10['datetime'] = pd.to_datetime(user_10['datetime'], errors='coerce')\n",
    "\n",
    "# Créer une copie pour les anomalies\n",
    "df_anormal = user_10.copy()\n",
    "\n",
    "# Fixer la graine pour la reproductibilité\n",
    "np.random.seed(42)\n",
    "\n",
    "# Nettoyage de la colonne datetime\n",
    "df_anormal['datetime'] = pd.to_datetime(df_anormal['datetime'], errors='coerce', dayfirst=True)\n",
    "\n",
    "# Supprimer les lignes avec des dates invalides si nécessaire\n",
    "df_anormal = df_anormal.dropna(subset=['datetime'])\n",
    "\n",
    "# Durée de l'anomalie en jours (par exemple, 2 jours)\n",
    "anomaly_duration = pd.Timedelta(days=2)\n",
    "\n",
    "# Nombre d'anomalies à ajouter\n",
    "num_anomalies = 9  # Exemple : 2 anomalies\n",
    "\n",
    "# Trouver les indices où la consommation est élevée\n",
    "anomaly_indices = df_anormal[df_anormal['Consommation'] >= 10].index\n",
    "\n",
    "# Si le nombre d'anomalies souhaité est supérieur au nombre d'anomalies disponibles, on réduit à la taille disponible\n",
    "num_anomalies = min(num_anomalies, len(anomaly_indices))\n",
    "\n",
    "# Sélectionner aléatoirement les indices où l'on va ajouter des anomalies\n",
    "selected_anomaly_indices = np.random.choice(anomaly_indices, size=num_anomalies, replace=False)\n",
    "\n",
    "# Ajouter les anomalies instantanées\n",
    "for idx in selected_anomaly_indices:\n",
    "    # Appliquer un pic négatif instantané\n",
    "    df_anormal.loc[idx, 'Consommation'] = abs(df_anormal.loc[idx, 'Consommation'])+360\n",
    "    # Marquer cette ligne comme anomalie et définir le type d'anomalie\n",
    "    df_anormal.loc[idx, ['anomalie', 'type']] = [1, 'prb de compteur']\n",
    "\n",
    "# Afficher les anomalies ajoutées\n",
    "print(df_anormal[df_anormal['anomalie'] == 1][['datetime', 'Consommation', 'anomalie', 'type']])\n"
   ]
  },
  {
   "cell_type": "code",
   "execution_count": null,
   "metadata": {
    "vscode": {
     "languageId": "plaintext"
    }
   },
   "outputs": [],
   "source": [
    "# Modifier le numéro d'utilisateur (par exemple, en ajoutant un préfixe ou une valeur différente)\n",
    "df_anormal['user_number'] =1022 # Changer le numéro d'utilisateur pour les données modifiées (par exemple 99999)\n",
    "\n",
    "# Concaténer user_60_anomaly avec le DataFrame d'origine (df)\n",
    "df_combined = pd.concat([ df ,df_anormal ])\n",
    "\n",
    "# Enregistrer le DataFrame combiné dans un fichier CSV\n",
    "df_combined.to_csv('Final_Data.csv', index=False)\n"
   ]
  }
 ],
 "metadata": {
  "language_info": {
   "name": "python"
  }
 },
 "nbformat": 4,
 "nbformat_minor": 2
}
