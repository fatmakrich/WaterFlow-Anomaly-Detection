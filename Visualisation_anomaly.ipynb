{
 "cells": [
  {
   "cell_type": "code",
   "execution_count": 2,
   "metadata": {},
   "outputs": [
    {
     "name": "stdout",
     "output_type": "stream",
     "text": [
      "Nombre total d'utilisateurs : 186\n"
     ]
    }
   ],
   "source": [
    "import pandas as pd\n",
    "\n",
    "# Charger le fichier mis à jour\n",
    "df = pd.read_csv('Data/Final_Data.csv')\n",
    "\n",
    "# Calculer le nombre total d'utilisateurs uniques\n",
    "total_users = df['user_number'].nunique()\n",
    "\n",
    "print(f\"Nombre total d'utilisateurs : {total_users}\")"
   ]
  },
  {
   "cell_type": "code",
   "execution_count": 3,
   "metadata": {},
   "outputs": [
    {
     "name": "stdout",
     "output_type": "stream",
     "text": [
      "Types uniques dans la colonne 'type' :\n",
      "prb de compteur\n",
      "Coupure d'eau\n",
      "Fuite de consommation\n",
      "prb de retour d'eau\n",
      "surconsommation\n"
     ]
    }
   ],
   "source": [
    "# Afficher une seule fois chaque type sans répétition, y compris 0\n",
    "types_uniques = df['type'].dropna().unique()\n",
    "\n",
    "# Afficher les types\n",
    "print(\"Types uniques dans la colonne 'type' :\")\n",
    "for type_value in types_uniques:\n",
    "    print(type_value)"
   ]
  },
  {
   "cell_type": "code",
   "execution_count": null,
   "metadata": {},
   "outputs": [],
   "source": []
  }
 ],
 "metadata": {
  "kernelspec": {
   "display_name": "base",
   "language": "python",
   "name": "python3"
  },
  "language_info": {
   "codemirror_mode": {
    "name": "ipython",
    "version": 3
   },
   "file_extension": ".py",
   "mimetype": "text/x-python",
   "name": "python",
   "nbconvert_exporter": "python",
   "pygments_lexer": "ipython3",
   "version": "3.12.4"
  }
 },
 "nbformat": 4,
 "nbformat_minor": 2
}
